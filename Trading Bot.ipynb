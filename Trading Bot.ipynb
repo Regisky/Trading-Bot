{
 "cells": [
  {
   "cell_type": "code",
   "execution_count": null,
   "id": "23141600",
   "metadata": {},
   "outputs": [],
   "source": [
    "import unicorn_binance_websocket_api\n",
    "import time\n",
    "import pandas as pd\n",
    "import pandas_ta as ta\n",
    "from binance.client import Client\n",
    "symbol = 'BTCUSDT'\n",
    "\n",
    "ME = []\n",
    "client = Client(api_key='Your Api key',\n",
    "                api_secret='your secret Key')\n",
    "ubwa = unicorn_binance_websocket_api.BinanceWebSocketApiManager(exchange=\"binance.com\")\n",
    "ubwa.create_stream(['kline_4h'], symbol, output='UnicornFy')\n",
    "\n",
    "def database(liveprices):\n",
    "    ME.append(liveprices)\n",
    "    if len(ME) >20000:\n",
    "        ME.pop(0)\n",
    "    df =  pd.DataFrame(ME)\n",
    "    df.columns = ['price']\n",
    "    cf = df[['price']]\n",
    "    dt=ta.rsi(df['price'], length = 14, append = True)\n",
    "    print(dt)\n",
    "    time.sleep(3600)\n",
    "\n",
    "def strategy(symbol=symbol, df=df open_position = False):\n",
    "    while True:\n",
    "        for i in dt:\n",
    "            if open_position:\n",
    "                if dt[-1]<30:\n",
    "                    order = client.create_order(symbol=symbol, side='BUY', type='MARKET', quantity=amnt)\n",
    "                    print(order)\n",
    "                    open_position = True\n",
    "                    break\n",
    "            if not open_position:\n",
    "                if dt[-1]>= 70:\n",
    "                     order = client.create_order(symbol=symbol, side='BUY', type='SELL', quantity=amnt)\n",
    "                    print(order)\n",
    "                    open_position = False\n",
    "\n",
    "                    break\n",
    "\n",
    "while True:\n",
    "    data = ubwa.pop_stream_data_from_stream_buffer()\n",
    "    if data and len(data) > 3:\n",
    "        liveprices= float(data['kline']['close_price'])\n",
    "    "
   ]
  }
 ],
 "metadata": {
  "kernelspec": {
   "display_name": "Python 3 (ipykernel)",
   "language": "python",
   "name": "python3"
  },
  "language_info": {
   "codemirror_mode": {
    "name": "ipython",
    "version": 3
   },
   "file_extension": ".py",
   "mimetype": "text/x-python",
   "name": "python",
   "nbconvert_exporter": "python",
   "pygments_lexer": "ipython3",
   "version": "3.9.12"
  }
 },
 "nbformat": 4,
 "nbformat_minor": 5
}
