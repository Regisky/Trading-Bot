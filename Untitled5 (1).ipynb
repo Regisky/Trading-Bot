{
 "cells": [
  {
   "cell_type": "code",
   "execution_count": 11,
   "id": "3f20406f",
   "metadata": {
    "scrolled": false
   },
   "outputs": [
    {
     "name": "stdout",
     "output_type": "stream",
     "text": [
      "None\n"
     ]
    },
    {
     "ename": "KeyboardInterrupt",
     "evalue": "",
     "output_type": "error",
     "traceback": [
      "\u001b[1;31m---------------------------------------------------------------------------\u001b[0m",
      "\u001b[1;31mKeyboardInterrupt\u001b[0m                         Traceback (most recent call last)",
      "Input \u001b[1;32mIn [11]\u001b[0m, in \u001b[0;36m<cell line: 24>\u001b[1;34m()\u001b[0m\n\u001b[0;32m     25\u001b[0m \u001b[38;5;28;01mif\u001b[39;00m data \u001b[38;5;129;01mand\u001b[39;00m \u001b[38;5;28mlen\u001b[39m(data) \u001b[38;5;241m>\u001b[39m \u001b[38;5;241m3\u001b[39m:\n\u001b[0;32m     26\u001b[0m     liveprices\u001b[38;5;241m=\u001b[39m \u001b[38;5;28mfloat\u001b[39m(data[\u001b[38;5;124m'\u001b[39m\u001b[38;5;124mkline\u001b[39m\u001b[38;5;124m'\u001b[39m][\u001b[38;5;124m'\u001b[39m\u001b[38;5;124mclose_price\u001b[39m\u001b[38;5;124m'\u001b[39m])\n\u001b[1;32m---> 28\u001b[0m \u001b[43mdatabase\u001b[49m\u001b[43m(\u001b[49m\u001b[43mliveprices\u001b[49m\u001b[43m)\u001b[49m\n",
      "Input \u001b[1;32mIn [11]\u001b[0m, in \u001b[0;36mdatabase\u001b[1;34m(liveprices)\u001b[0m\n\u001b[0;32m     18\u001b[0m dt\u001b[38;5;241m=\u001b[39mta\u001b[38;5;241m.\u001b[39mrsi(df[\u001b[38;5;124m'\u001b[39m\u001b[38;5;124mprice\u001b[39m\u001b[38;5;124m'\u001b[39m], length \u001b[38;5;241m=\u001b[39m \u001b[38;5;241m14\u001b[39m, append \u001b[38;5;241m=\u001b[39m \u001b[38;5;28;01mTrue\u001b[39;00m)\n\u001b[0;32m     19\u001b[0m \u001b[38;5;28mprint\u001b[39m(dt)\n\u001b[1;32m---> 20\u001b[0m \u001b[43mtime\u001b[49m\u001b[38;5;241;43m.\u001b[39;49m\u001b[43msleep\u001b[49m\u001b[43m(\u001b[49m\u001b[38;5;241;43m3600\u001b[39;49m\u001b[43m)\u001b[49m\n",
      "\u001b[1;31mKeyboardInterrupt\u001b[0m: "
     ]
    }
   ],
   "source": [
    "import unicorn_binance_websocket_api\n",
    "import time\n",
    "import pandas as pd\n",
    "import pandas_ta as ta\n",
    "from binance.client import Client\n",
    "symbol = 'BTCUSDT'\n",
    "\n",
    "ME = []\n",
    "client = Client(api_key='Your api key',\n",
    "                api_secret='Your Api secret Key')\n",
    "ubwa = unicorn_binance_websocket_api.BinanceWebSocketApiManager(exchange=\"binance.com\")\n",
    "ubwa.create_stream(['kline_4h'], symbol, output='UnicornFy')\n",
    "\n",
    "def database(liveprices):\n",
    "    ME.append(liveprices)\n",
    "    if len(ME) >20000:\n",
    "        ME.pop(0)\n",
    "    df =  pd.DataFrame(ME)\n",
    "    df.columns = ['price']\n",
    "    cf = df[['price']]\n",
    "    dt=ta.rsi(df['price'], length = 14, append = True)\n",
    "    print(dt)\n",
    "    time.sleep(3600)\n",
    "\n",
    "def strategy(symbol=symbol, df=df open_position = False):\n",
    "    while True:\n",
    "        for i in dt:\n",
    "            if open_position:\n",
    "                if dt[-1]<30:\n",
    "                    order = client.create_order(symbol=symbol, side='BUY', type='MARKET', quantity=amnt)\n",
    "                    print(order)\n",
    "                    open_position = True\n",
    "                    break\n",
    "            if not open_position:\n",
    "                if dt[-1]>= 70:\n",
    "                     order = client.create_order(symbol=symbol, side='BUY', type='SELL', quantity=amnt)\n",
    "                    print(order)\n",
    "                    open_position = False\n",
    "\n",
    "                    break\n",
    "\n",
    "while True:\n",
    "    data = ubwa.pop_stream_data_from_stream_buffer()\n",
    "    if data and len(data) > 3:\n",
    "        liveprices= float(data['kline']['close_price'])\n",
    "    \n",
    "    #database(liveprices)\n"
   ]
  },
  {
   "cell_type": "code",
   "execution_count": null,
   "id": "dd7daaf8",
   "metadata": {},
   "outputs": [],
   "source": [
    "! pip install binance"
   ]
  }
 ],
 "metadata": {
  "kernelspec": {
   "display_name": "Python 3 (ipykernel)",
   "language": "python",
   "name": "python3"
  },
  "language_info": {
   "codemirror_mode": {
    "name": "ipython",
    "version": 3
   },
   "file_extension": ".py",
   "mimetype": "text/x-python",
   "name": "python",
   "nbconvert_exporter": "python",
   "pygments_lexer": "ipython3",
   "version": "3.9.12"
  }
 },
 "nbformat": 4,
 "nbformat_minor": 5
}
